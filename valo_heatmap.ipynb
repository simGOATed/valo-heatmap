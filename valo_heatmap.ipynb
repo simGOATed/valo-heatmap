{
 "cells": [
  {
   "cell_type": "code",
   "execution_count": 1,
   "id": "1a226998",
   "metadata": {},
   "outputs": [],
   "source": [
    "import requests\n",
    "import pandas as pd\n",
    "import numpy as np\n",
    "import seaborn as sns\n",
    "from matplotlib import pyplot as plt\n",
    "from PIL import Image\n",
    "import time\n",
    "from tqdm.notebook import tqdm"
   ]
  },
  {
   "cell_type": "code",
   "execution_count": 2,
   "id": "ee017254",
   "metadata": {},
   "outputs": [],
   "source": [
    "# Enter display name and tag\n",
    "display_name = 'your name'\n",
    "player_tag = 'TAG' # No Hashtag"
   ]
  },
  {
   "cell_type": "code",
   "execution_count": 3,
   "id": "1e7526cc",
   "metadata": {},
   "outputs": [],
   "source": [
    "matches_url = f'https://api.henrikdev.xyz/valorant/v1/lifetime/matches/eu/{display_name}/{player_tag}'\n",
    "maps_url = 'https://valorant-api.com/v1/maps'"
   ]
  },
  {
   "cell_type": "code",
   "execution_count": 4,
   "id": "d609ff9c",
   "metadata": {},
   "outputs": [],
   "source": [
    "maps_dict = {}\n",
    "\n",
    "maps_resp = requests.get(maps_url)\n",
    "maps = maps_resp.json()['data']\n",
    "\n",
    "for m in maps:\n",
    "    name = m['displayName']\n",
    "    maps_dict[name] = {}\n",
    "    maps_dict[name]['callouts'] = m['callouts']\n",
    "    maps_dict[name]['map_url'] = m['displayIcon']\n",
    "    maps_dict[name]['xMul'] = m['xMultiplier']\n",
    "    maps_dict[name]['yMul'] = m['yMultiplier']\n",
    "    maps_dict[name]['xAdd'] = m['xScalarToAdd']\n",
    "    maps_dict[name]['yAdd'] = m['yScalarToAdd']\n",
    "    maps_dict[name]['kills'] = []\n",
    "    maps_dict[name]['deaths'] = []\n"
   ]
  },
  {
   "cell_type": "code",
   "execution_count": 5,
   "id": "f121177b",
   "metadata": {},
   "outputs": [
    {
     "data": {
      "application/vnd.jupyter.widget-view+json": {
       "model_id": "41e3bbe7b5bb4780b52ccf451fadcb54",
       "version_major": 2,
       "version_minor": 0
      },
      "text/plain": [
       "  0%|          | 0/29 [00:00<?, ?it/s]"
      ]
     },
     "metadata": {},
     "output_type": "display_data"
    }
   ],
   "source": [
    "matches_resp = requests.get(matches_url)\n",
    "for i in tqdm(range(29)):\n",
    "    match = matches_resp.json()['data'][i]\n",
    "    kills = []\n",
    "    deaths = []\n",
    "    map_name = match['meta']['map']['name']\n",
    "    match_id = match['meta']['id']\n",
    "    match_url = f'https://api.henrikdev.xyz/valorant/v2/match/{match_id}'\n",
    "    match_resp = requests.get(match_url)\n",
    "    match_data = match_resp.json()['data']\n",
    "    player_display_name = f'{display_name}#{player_tag}'\n",
    "    for kill in match_data['kills']:\n",
    "        killer_display_name = kill['killer_display_name']\n",
    "        victim_display_name = kill['victim_display_name']\n",
    "        if killer_display_name == player_display_name:\n",
    "            for player in kill['player_locations_on_kill']:\n",
    "                if player['player_display_name'] == player_display_name:\n",
    "                    loc = np.array(list(player['location'].values()))[::-1]\n",
    "                    ans = (np.array([maps_dict[map_name]['xMul'], maps_dict[map_name]['yMul']]) * loc \n",
    "                        + np.array([maps_dict[map_name]['xAdd'], maps_dict[map_name]['yAdd']])) * 1024\n",
    "                    kills.append(tuple(ans))\n",
    "        elif victim_display_name == player_display_name:\n",
    "            loc = np.array(list(kill['victim_death_location'].values()))[::-1]\n",
    "            ans = (np.array([maps_dict[map_name]['xMul'], maps_dict[map_name]['yMul']]) * loc \n",
    "                   + np.array([maps_dict[map_name]['xAdd'], maps_dict[map_name]['yAdd']])) * 1000\n",
    "            deaths.append(tuple(ans))\n",
    "\n",
    "    maps_dict[map_name]['kills'].extend(kills)\n",
    "    maps_dict[map_name]['deaths'].extend(deaths)\n",
    "\n",
    "    \n",
    "            \n",
    "for m in list(maps_dict.keys()):\n",
    "    maps_dict[m]['kills'] = np.array(maps_dict[m]['kills'])\n",
    "    maps_dict[m]['deaths'] = np.array(maps_dict[m]['deaths'])\n",
    "    "
   ]
  },
  {
   "cell_type": "code",
   "execution_count": null,
   "id": "7a041017",
   "metadata": {},
   "outputs": [
    {
     "data": {
      "application/vnd.jupyter.widget-view+json": {
       "model_id": "abf557fcb571433a83625cb12a56dd21",
       "version_major": 2,
       "version_minor": 0
      },
      "text/plain": [
       "  0%|          | 0/15 [00:00<?, ?it/s]"
      ]
     },
     "metadata": {},
     "output_type": "display_data"
    },
    {
     "name": "stderr",
     "output_type": "stream",
     "text": [
      "C:\\Users\\sfchi\\AppData\\Local\\Temp\\ipykernel_15968\\3086568078.py:53: RuntimeWarning: More than 20 figures have been opened. Figures created through the pyplot interface (`matplotlib.pyplot.figure`) are retained until explicitly closed and may consume too much memory. (To control this warning, see the rcParam `figure.max_open_warning`). Consider using `matplotlib.pyplot.close()`.\n",
      "  fig, ax = plt.subplots()\n"
     ]
    }
   ],
   "source": [
    "for m in tqdm(list(maps_dict.keys())):    \n",
    "    url = maps_dict[m]['map_url']\n",
    "    try:\n",
    "        kx, ky = maps_dict[m]['kills'].T\n",
    "        dx, dy = maps_dict[m]['deaths'].T\n",
    "    except:\n",
    "        kx, ky, dx, dy = 0, 0, 0, 0\n",
    "    \n",
    "    if url:\n",
    "        im = Image.open(requests.get(url, stream=True).raw)\n",
    "        x = np.asarray(im.convert('RGBA')).copy()\n",
    "        performance = np.zeros([x.shape[0], x.shape[1]])\n",
    "        x_performance = np.empty((x.shape[0], x.shape[1], 4), dtype=np.uint8)\n",
    "        frequency = np.zeros([x.shape[0], x.shape[1]])\n",
    "        x_frequency = np.empty((x.shape[0], x.shape[1], 4), dtype=np.uint8)\n",
    "\n",
    "        for i in range(x.shape[0]):\n",
    "            for j in range(x.shape[1]):\n",
    "                c_red = x[i, j, 0]\n",
    "                c_green = x[i, j, 1]\n",
    "                c_blue = x[i, j, 2]\n",
    "                c_alpha = x[i, j, 3]\n",
    "                if c_red >= 220 and c_green >= 220 and c_blue >= 220: \n",
    "                    x_performance[i, j] = (255, 255, 255, 255)\n",
    "                    x_frequency[i, j] = (255, 255, 255, 255)\n",
    "                elif 125<c_red<130 and 125<c_green<130 and 125<c_blue<130:\n",
    "                    k_zones = np.sum(np.exp(-0.001*(kx-j)**2-0.001*(ky-i)**2))\n",
    "                    d_zones = np.sum(np.exp(-0.001*(dx-j)**2-0.001*(dy-i)**2))\n",
    "                    diff = (k_zones - d_zones)\n",
    "                    summ = (k_zones + d_zones)\n",
    "                    performance[i, j] = np.divide(diff, summ, where=summ!=0)\n",
    "                    frequency[i, j] = summ\n",
    "                    \n",
    "                else:\n",
    "                    x_performance[i, j] = (c_red, c_green, c_blue, c_alpha)\n",
    "                    x_frequency[i, j] = (c_red, c_green, c_blue, c_alpha)\n",
    "        \n",
    "        frequency = np.divide(frequency, np.max(frequency), where=np.max(frequency)!=0)\n",
    "        performance = np.divide(performance, np.max(performance), where=np.max(performance)!=0)\n",
    "        performance *= np.power(frequency, 1/3)\n",
    "        for i in range(x.shape[0]):\n",
    "            for j in range(x.shape[1]):\n",
    "                c_red = x[i, j, 0]\n",
    "                c_green = x[i, j, 1]\n",
    "                c_blue = x[i, j, 2]\n",
    "                c_alpha = x[i, j, 3]\n",
    "                if 125<c_red<130 and 125<c_green<130 and 125<c_blue<130:\n",
    "                    freq_color = (int(255*frequency[i, j]), 0, int(255*(1-frequency[i, j])), 255)\n",
    "                    x_frequency[i, j] = freq_color\n",
    "                    perf_color = (int(127*(1-performance[i, j])), int(127*(1+performance[i, j])), 127, 255)\n",
    "                    x_performance[i, j] = perf_color\n",
    "                \n",
    "        fig, ax = plt.subplots()\n",
    "        \n",
    "        im = Image.fromarray(x_performance.astype('uint8'), 'RGBA')      \n",
    "        plt.imshow(im)\n",
    "        plt.title(f'{m} performance')\n",
    "                                  \n",
    "        x1 = [k[0] for k in maps_dict[m]['kills'] if k[0] < 1000 and k[1] < 1000]\n",
    "        y1 = [k[1] for k in maps_dict[m]['kills'] if k[0] < 1000 and k[1] < 1000]\n",
    "        x2 = [d[0] for d in maps_dict[m]['deaths'] if d[0] < 1000 and d[1] < 1000]\n",
    "        y2 = [d[1] for d in maps_dict[m]['deaths'] if d[0] < 1000 and d[1] < 1000]\n",
    "        \n",
    "        ax.scatter(x1, y1, s=10, c='b', marker='.')\n",
    "        ax.scatter(x2, y2, s=10, c='k', marker='x')\n",
    "        \n",
    "        fig2, ax2 = plt.subplots()\n",
    "                                  \n",
    "        im2 = Image.fromarray(x_frequency.astype('uint8'), 'RGBA')      \n",
    "        plt.imshow(im2)\n",
    "        plt.title(f'{m} frequency')\n",
    "                \n",
    "        "
   ]
  },
  {
   "cell_type": "code",
   "execution_count": null,
   "id": "84fbd55f",
   "metadata": {},
   "outputs": [],
   "source": []
  }
 ],
 "metadata": {
  "kernelspec": {
   "display_name": "Python 3 (ipykernel)",
   "language": "python",
   "name": "python3"
  },
  "language_info": {
   "codemirror_mode": {
    "name": "ipython",
    "version": 3
   },
   "file_extension": ".py",
   "mimetype": "text/x-python",
   "name": "python",
   "nbconvert_exporter": "python",
   "pygments_lexer": "ipython3",
   "version": "3.11.5"
  }
 },
 "nbformat": 4,
 "nbformat_minor": 5
}
